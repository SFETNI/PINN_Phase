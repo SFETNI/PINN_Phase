{
 "cells": [
  {
   "cell_type": "code",
   "execution_count": 15,
   "metadata": {},
   "outputs": [],
   "source": [
    "import os\n",
    "import numpy as np\n",
    "import scipy.io as sio\n",
    "import torch\n",
    "import torch.nn as nn\n",
    "import torch.optim as optim\n",
    "from torch.utils.data import DataLoader, TensorDataset\n",
    "import matplotlib\n",
    "\n",
    "from importlib import reload\n",
    "#from sklearn.preprocessing import MinMaxScaler\n",
    "\n",
    "import L_PINN  # python files (classes)\n",
    "import pre_post\n",
    "from pre_post import *\n",
    "from L_PINN import *\n"
   ]
  },
  {
   "cell_type": "code",
   "execution_count": 16,
   "metadata": {},
   "outputs": [],
   "source": [
    "def generate_circles(mean_r, num_circles, std, Nx, Ny, Nz):\n",
    "    # Initialize the arrays for the radii and centers of the circles\n",
    "    R0 = np.zeros(num_circles)\n",
    "    X_center = np.zeros(num_circles)\n",
    "    Y_center = np.zeros(num_circles)\n",
    "    Z_center = np.zeros(num_circles)\n",
    "\n",
    "    # Generate the first circle randomly\n",
    "    R0[0] = np.random.normal(loc=mean_r, scale=std)\n",
    "    X_center[0] = np.random.randint(R0[0], Nx-R0[0])\n",
    "    Y_center[0] = np.random.randint(R0[0], Ny-R0[0])\n",
    "    Z_center[0] = np.random.randint(R0[0], Nz-R0[0])\n",
    "\n",
    "    # Loop through the remaining circles and generate them one at a time\n",
    "    for i in range(1, num_circles):\n",
    "        # Flag to indicate whether the new circle overlaps with any existing circles\n",
    "        overlaps = True\n",
    "        while overlaps:\n",
    "            # Generate the radius and center of the new circle randomly\n",
    "            R0[i] = np.random.normal(loc=mean_r, scale=std)\n",
    "            X_center[i] = np.random.randint(R0[i], Nx-R0[i])\n",
    "            Y_center[i] = np.random.randint(R0[i], Ny-R0[i])\n",
    "            Z_center[i] = np.random.randint(R0[i], Nz-R0[i])\n",
    "\n",
    "            # Check the new circle against the existing circles\n",
    "            overlaps = False\n",
    "            for j in range(i):\n",
    "                if np.sqrt((X_center[i]-X_center[j])**2 + (Y_center[i]-Y_center[j])**2 ) < (R0[i]+R0[j]): #+ (Z_center[i]-Z_center[j])**2\n",
    "                    overlaps = True\n",
    "                    break\n",
    "    \n",
    "    return R0, X_center, Y_center, Z_center"
   ]
  },
  {
   "attachments": {},
   "cell_type": "markdown",
   "metadata": {},
   "source": [
    "#### Model paramters"
   ]
  },
  {
   "cell_type": "code",
   "execution_count": null,
   "metadata": {},
   "outputs": [],
   "source": []
  },
  {
   "cell_type": "code",
   "execution_count": 17,
   "metadata": {},
   "outputs": [],
   "source": [
    "   # Grid parameters\n",
    "Nx=64\n",
    "Ny=64\n",
    "Nt=1500 \n",
    "lb = np.array([0, 0,0])\n",
    "ub = np.array([1, 1,1500]) \n",
    "dx = (ub[0] - lb[0]) / (Nx - 1)\n",
    "dy = (ub[1] - lb[1]) / (Ny - 1)\n",
    "# physical parameters\n",
    "num_phases=1\n",
    "dt = (ub[2] - lb[2]) / (Nt - 1)\n",
    "sigma=1\n",
    "mu=5e-5\n",
    "delta_g= 0 \n",
    "eta=7*dx\n",
    "\n",
    "x = np.linspace(lb[0], ub[0], Nx)\n",
    "y = np.linspace(lb[1], ub[1], Ny)\n",
    "t= np.linspace(lb[2], ub[2], Nt) \n",
    "X, Y, T = np.meshgrid(np.linspace(lb[0], ub[0], Nx),\n",
    "                        np.linspace(lb[1], ub[1], Ny),\n",
    "                        np.linspace(lb[2], ub[2], Nt),\n",
    "                        indexing='ij')\n",
    "#### Conv-LSTM hyper-parameters\n",
    "input_channels=num_phases\n",
    "hidden_channels = [8, 32, 64, 64]  #  number of output channels for each layer in the network.\n",
    "input_kernel_size = [3, 3, 3, 3] #    kernel sizes for 3 auto-encoders and 1 conv-lstm : (4,4), (4,4), (4,4) and (3,3)\n",
    "input_stride = [2, 2, 2, 1]  #  for each auto-encoder, the stride is (2,2) then it is (1,1) for the conv-lstm\n",
    "input_padding = [1, 1, 1, 1]  # a standard minimum, padding of (1,1) for each architecture \n",
    "num_layers = [3, 1]  # 3 auto-enocders + 1 conv-lstm \n",
    "\n",
    "inter_dim=512\n",
    "latent_dim=128"
   ]
  },
  {
   "cell_type": "code",
   "execution_count": 18,
   "metadata": {},
   "outputs": [],
   "source": [
    "save_path=\"figures\"\n",
    "import pre_post\n",
    "reload(pre_post)  # mandatory to reload content at each re-call atfer modification\n",
    "from pre_post import *\n",
    "Pre_Post=PrePost(X=X,T=None, lb=lb, ub=ub, Nx=Nx,Ny=Ny,dx=dx,dy=dy,x=x,y=y, eta=eta,\\\n",
    "        phi_true=None)\n",
    "\n",
    "Pre_Post.EraseFile(path=os.path.join(os.getcwd(),\"VAE_figs\")) "
   ]
  },
  {
   "attachments": {},
   "cell_type": "markdown",
   "metadata": {},
   "source": [
    "### Generate a Dataset of Initializations"
   ]
  },
  {
   "cell_type": "code",
   "execution_count": 19,
   "metadata": {},
   "outputs": [
    {
     "name": "stdout",
     "output_type": "stream",
     "text": [
      "len(datasets) 30\n"
     ]
    },
    {
     "name": "stderr",
     "output_type": "stream",
     "text": [
      "2024-06-22 00:08:25.487842: E tensorflow/compiler/xla/stream_executor/cuda/cuda_driver.cc:268] failed call to cuInit: CUDA_ERROR_NO_DEVICE: no CUDA-capable device is detected\n",
      "2024-06-22 00:08:25.487873: I tensorflow/compiler/xla/stream_executor/cuda/cuda_diagnostics.cc:168] retrieving CUDA diagnostic information for host: WS8692.zit.bam.de\n",
      "2024-06-22 00:08:25.487880: I tensorflow/compiler/xla/stream_executor/cuda/cuda_diagnostics.cc:175] hostname: WS8692.zit.bam.de\n",
      "2024-06-22 00:08:25.487930: I tensorflow/compiler/xla/stream_executor/cuda/cuda_diagnostics.cc:199] libcuda reported version is: 535.171.4\n",
      "2024-06-22 00:08:25.487964: I tensorflow/compiler/xla/stream_executor/cuda/cuda_diagnostics.cc:203] kernel reported version is: 535.171.4\n",
      "2024-06-22 00:08:25.487971: I tensorflow/compiler/xla/stream_executor/cuda/cuda_diagnostics.cc:309] kernel version seems to match DSO: 535.171.4\n"
     ]
    }
   ],
   "source": [
    "\n",
    "\n",
    "# Define the range of radii and eta\n",
    "radii_range = np.arange(25, 26.5, 0.05)* dx\n",
    "eta_range = np.arange(7, 7.001, 0.05)* dx\n",
    "\n",
    "# Generate datasets for different radii and etas\n",
    "datasets = []\n",
    "\n",
    "for radius in radii_range:\n",
    "        radius = np.array([radius])  # Convert radius to numpy array\n",
    "        for eta in eta_range:\n",
    "                #print(radius,eta)\n",
    "                R0, X_center, Y_center, Z_center = generate_circles(mean_r=radius, num_circles=1, std=0, Nx=Nx, Ny=Ny, Nz=100)\n",
    "                \n",
    "                X_center = np.array([Nx * dx / 2])\n",
    "                Y_center = np.array([Ny * dy / 2])\n",
    "                #print(R0, X_center,Y_center)\n",
    "                #stop\n",
    "                phi_0, X_ini_all = Pre_Post.init_micro_cir(R0, eta, X_center, Y_center, Z_center, Nx, Ny, x, y)\n",
    "                \n",
    "                phi_0 = torch.tensor(phi_0, dtype=torch.float32).unsqueeze(0).unsqueeze(0)\n",
    "                #print(phi_0.shape)\n",
    "        \n",
    "                # Add initial conditions to dataset\n",
    "                datasets.append(phi_0)\n",
    "tf.print(\"len(datasets)\",len(datasets))\n",
    "#\"\"\""
   ]
  },
  {
   "cell_type": "code",
   "execution_count": 20,
   "metadata": {},
   "outputs": [],
   "source": [
    "datasets_dict = {'dataset_{}'.format(i): dataset for i, dataset in enumerate(datasets)}\n",
    "np.savez('datasets.npz', **datasets_dict)\n"
   ]
  },
  {
   "cell_type": "code",
   "execution_count": 21,
   "metadata": {},
   "outputs": [
    {
     "name": "stdout",
     "output_type": "stream",
     "text": [
      "datasets torch.Size([30, 1, 1, 64, 64])\n"
     ]
    }
   ],
   "source": [
    "#\"\"\"\n",
    "loaded_data = np.load('datasets.npz')\n",
    "datasets = [loaded_data[key] for key in loaded_data.keys()]\n",
    "datasets = [torch.tensor(dataset, dtype=torch.float32) for dataset in datasets]\n",
    "datasets = torch.stack(datasets, dim=0)\n",
    "tf.print(\"datasets\" ,datasets.shape)\n",
    "#\"\"\""
   ]
  },
  {
   "cell_type": "code",
   "execution_count": 22,
   "metadata": {},
   "outputs": [
    {
     "data": {
      "text/plain": [
       "'\\ndatasets = [torch.tensor(dataset, dtype=torch.float32) for dataset in datasets]\\ndatasets = torch.stack(datasets, dim=0)\\nprint(datasets.shape)\\nIC_tensor = datasets[39000,...]\\nprint(datasets.shape, IC_tensor.shape)\\n# Create a heatmap for the initial condition\\nplt.imshow(IC_tensor[0,0].clone().detach(), cmap=\\'viridis\\', origin=\\'lower\\')\\nplt.colorbar(label=\\'u\\')\\nplt.xlabel(\\'x\\')\\nplt.ylabel(\\'y\\')\\nplt.title(r\\'$\\\\phi_0$\\')\\nplt.savefig(\"IC_whole_solution.png\")\\nplt.show()\\n'"
      ]
     },
     "execution_count": 22,
     "metadata": {},
     "output_type": "execute_result"
    }
   ],
   "source": [
    "\"\"\"\n",
    "datasets = [torch.tensor(dataset, dtype=torch.float32) for dataset in datasets]\n",
    "datasets = torch.stack(datasets, dim=0)\n",
    "print(datasets.shape)\n",
    "IC_tensor = datasets[39000,...]\n",
    "print(datasets.shape, IC_tensor.shape)\n",
    "# Create a heatmap for the initial condition\n",
    "plt.imshow(IC_tensor[0,0].clone().detach(), cmap='viridis', origin='lower')\n",
    "plt.colorbar(label='u')\n",
    "plt.xlabel('x')\n",
    "plt.ylabel('y')\n",
    "plt.title(r'$\\phi_0$')\n",
    "plt.savefig(\"IC_whole_solution.png\")\n",
    "plt.show()\n",
    "\"\"\""
   ]
  },
  {
   "cell_type": "code",
   "execution_count": 23,
   "metadata": {},
   "outputs": [],
   "source": [
    "#\"\"\"\n",
    "import numpy as np\n",
    "\n",
    "# Define the number of rows and columns for the subplot grid\n",
    "N = 3  # Number of rows\n",
    "M = 4  # Number of columns\n",
    "\n",
    "# Create a figure and axis for the subplot grid\n",
    "fig, axes = plt.subplots(N, M, figsize=(12, 10))\n",
    "\n",
    "# Generate random indices for selecting samples\n",
    "num_samples = N * M\n",
    "sample_indices = np.random.choice(len(datasets), num_samples, replace=False)\n",
    "\n",
    "# Iterate over the random sample indices and plot images\n",
    "for idx, ax in zip(sample_indices, axes.ravel()):\n",
    "    # Extract the image from the dataset\n",
    "    uv_ic_channel_0 = datasets[idx][0, 0, :, :]\n",
    "    \n",
    "    # Plot the image on the corresponding subplot\n",
    "    ax.imshow(uv_ic_channel_0, cmap='viridis', origin='lower', extent=[0, uv_ic_channel_0.shape[1], 0, uv_ic_channel_0.shape[0]])\n",
    "    ax.set_title(f'Sample {idx}')  # Set the title for the subplot\n",
    "    ax.set_xlabel('x')\n",
    "    ax.set_ylabel('y')\n",
    "    ax.axis('off')  # Turn off axis\n",
    "\n",
    "# Add a colorbar to the last subplot\n",
    "#cbar = fig.colorbar(axes[0, 0].imshow(uv_ic_channel_0, cmap='viridis', origin='lower', extent=[0, uv_ic_channel_0.shape[1], 0, uv_ic_channel_0.shape[0]]), ax=axes.ravel().tolist(), shrink=0.95)\n",
    "#cbar.set_label('u')  # Set the label for the colorbar\n",
    "\n",
    "# Adjust layout\n",
    "plt.tight_layout()\n",
    "save_dir= os.path.join(os.getcwd(), \"VAE_figs\")\n",
    "os.makedirs(save_dir, exist_ok=True)\n",
    "plt.savefig(os.path.join(save_dir,\"sample_Dataset\"))\n",
    "plt.close()\n",
    "#\"\"\""
   ]
  },
  {
   "cell_type": "code",
   "execution_count": 24,
   "metadata": {},
   "outputs": [],
   "source": [
    "\"\"\"\n",
    "import pre_post\n",
    "from pre_post import *\n",
    "reload(pre_post)\n",
    "Pre_Post=PrePost(X=X,T=None, lb=lb, ub=ub, Nx=Nx,Ny=Ny,dx=dx,dy=dy,x=x,y=y, eta=eta,\\\n",
    "        phi_true=None)\n",
    "\"\"\"\n",
    "R0, X_center, Y_center,Z_center =\\\n",
    "        generate_circles(mean_r=25*dx,num_circles=1, std=0, Nx=Nx, Ny=Ny,Nz=100) #25*dx\n",
    "X_center=np.array([Nx*dx/2])\n",
    "Y_center=np.array([Ny*dx/2])\n",
    "\n",
    "R0=25*dx\n",
    "phi_0, X_ini_all=Pre_Post.init_micro_cir(R0,eta, X_center,Y_center, Z_center,Nx,Ny,x,y) \n",
    "\n",
    "phi_0 = torch.tensor(phi_0, dtype=torch.float32)\n",
    "save_dir= os.path.join(os.getcwd(), \"VAE_figs\")\n",
    "plt.savefig(os.path.join(save_dir,\"phi0\"))\n",
    "plt.close()\n"
   ]
  },
  {
   "cell_type": "code",
   "execution_count": null,
   "metadata": {},
   "outputs": [
    {
     "data": {
      "text/plain": [
       "'\\nT_ch=eta**2 /(sigma*mu)\\nx=x/eta\\ny=y/eta\\nt=t/T_ch \\ndt =dt /T_ch \\ndx=dx/eta\\ndy=dy/eta\\nR0=R0/eta\\ndelta_g=eta*delta_g\\nlb[0], ub[0]=lb[0]/eta, ub[0]/eta\\nlb[1], ub[1]= lb[1]/eta, ub[1]/eta\\nlb[2], ub[2]= lb[2]/T_ch, ub[2]/T_ch\\nub=ub/eta\\n'"
      ]
     },
     "execution_count": 153,
     "metadata": {},
     "output_type": "execute_result"
    }
   ],
   "source": [
    "# %%\n",
    "\"\"\"\n",
    "T_ch=eta**2 /(sigma*mu)\n",
    "x=x/eta\n",
    "y=y/eta\n",
    "t=t/T_ch \n",
    "dt =dt /T_ch \n",
    "dx=dx/eta\n",
    "dy=dy/eta\n",
    "R0=R0/eta\n",
    "delta_g=eta*delta_g\n",
    "lb[0], ub[0]=lb[0]/eta, ub[0]/eta\n",
    "lb[1], ub[1]= lb[1]/eta, ub[1]/eta\n",
    "lb[2], ub[2]= lb[2]/T_ch, ub[2]/T_ch\n",
    "ub=ub/eta\n",
    "\"\"\"\n"
   ]
  },
  {
   "cell_type": "markdown",
   "metadata": {},
   "source": [
    "#### define the variational autoencoder "
   ]
  },
  {
   "cell_type": "code",
   "execution_count": null,
   "metadata": {},
   "outputs": [],
   "source": [
    "def compute_output_shape(W_in, kernel_size, stride, padding):\n",
    "    W_out = (W_in - kernel_size + 2 * padding) // stride + 1\n",
    "    return W_out\n",
    "\n",
    "#  input dimensions\n",
    "W_in = 64\n",
    "\n",
    "# Encoder block 0\n",
    "encoder0_kernel_size =3\n",
    "encoder0_stride = 2\n",
    "encoder0_padding = 1\n",
    "\n",
    "encoder_params = [\n",
    "    {\"kernel_size\":3, \"stride\": 2, \"padding\": 1},  # Encoder block 0 parameters\n",
    "    {\"kernel_size\": 3, \"stride\": 2, \"padding\": 1},# Encoder block 1 parameters\n",
    "    {\"kernel_size\": 3, \"stride\": 2, \"padding\": 1}   # Encoder block 1 parameters\n",
    "]\n",
    "\n",
    "\n",
    "# Iterate through encoder blocks and compute output shapes\n",
    "for i, params in enumerate(encoder_params):\n",
    "    W_out = compute_output_shape(W_in, params[\"kernel_size\"], params[\"stride\"], params[\"padding\"])\n",
    "    #tf.print(\"Output shape after encoder block {}:\".format(i), W_out)\n",
    "    \n",
    "    # Update input shape for the next encoder block\n",
    "    W_in = W_out"
   ]
  },
  {
   "cell_type": "code",
   "execution_count": 25,
   "metadata": {},
   "outputs": [
    {
     "name": "stderr",
     "output_type": "stream",
     "text": [
      "/home/selfetni/.local/lib/python3.10/site-packages/torch/nn/utils/weight_norm.py:28: UserWarning: torch.nn.utils.weight_norm is deprecated in favor of torch.nn.utils.parametrizations.weight_norm.\n",
      "  warnings.warn(\"torch.nn.utils.weight_norm is deprecated in favor of torch.nn.utils.parametrizations.weight_norm.\")\n"
     ]
    }
   ],
   "source": [
    "#\"\"\"\n",
    "import L_PINN\n",
    "reload(L_PINN)  # mandatory to reload content at each re-call atfer modification\n",
    "from L_PINN import *\n",
    "\n",
    "input  = phi_0.clone().detach().to(torch.float32).unsqueeze(0).unsqueeze(0)\n",
    "VAE = VariationaAutoencoder( input_tensor=input,   input_channels = num_phases, # one phase \n",
    "    hidden_channels = hidden_channels,  #  number of output channels for each layer in the network.\n",
    "    input_kernel_size = input_kernel_size, #    kernel sizes for 3 auto-encoders and 1 conv-lstm : (4,4), (4,4), (4,4) and (3,3)\n",
    "    input_stride = input_stride,  #  for each auto-encoder, the stride is (2,2) then it is (1,1) for the conv-lstm\n",
    "    input_padding = input_padding,  # a standard minimum, padding of (1,1) for each architecture \n",
    "    num_layers = num_layers,  # 3 auto-enocders + 1 conv-lstm \n",
    "    inter_dim=inter_dim,\n",
    "    latent_dim=latent_dim,\n",
    "    )\n"
   ]
  },
  {
   "attachments": {},
   "cell_type": "markdown",
   "metadata": {},
   "source": [
    "#### train the variational autoencoder "
   ]
  },
  {
   "cell_type": "code",
   "execution_count": 156,
   "metadata": {},
   "outputs": [
    {
     "name": "stdout",
     "output_type": "stream",
     "text": [
      "Epoch [1/100], Loss: 8.606e+00\n",
      "Epoch [21/100], Loss: 1.124e-01\n",
      "Epoch [41/100], Loss: 5.201e-02\n",
      "Epoch [61/100], Loss: 2.255e-02\n",
      "Epoch [81/100], Loss: 1.746e-02\n",
      "VAE trained\n"
     ]
    }
   ],
   "source": [
    "import L_PINN\n",
    "reload(L_PINN)  # mandatory to reload content at each re-call atfer modification\n",
    "from L_PINN import *\n",
    "#datasets=input.unsqueeze(0)\n",
    "dataloader = DataLoader(datasets, batch_size=128, shuffle=True)\n",
    "VAE.train(dataloader,save_path=\"VAE_figs\",datasets=datasets)"
   ]
  },
  {
   "cell_type": "code",
   "execution_count": 158,
   "metadata": {},
   "outputs": [],
   "source": [
    "VAE.check_IC(datasets,save_dir)"
   ]
  },
  {
   "attachments": {},
   "cell_type": "markdown",
   "metadata": {},
   "source": [
    "#### Autoencoder Inference "
   ]
  },
  {
   "cell_type": "code",
   "execution_count": 26,
   "metadata": {},
   "outputs": [
    {
     "name": "stdout",
     "output_type": "stream",
     "text": [
      "Pretrained VAE model loaded!\n"
     ]
    }
   ],
   "source": [
    "import L_PINN\n",
    "reload(L_PINN)  # mandatory to reload content at each re-call atfer modification\n",
    "from L_PINN import *\n",
    "\n",
    "num_samples = datasets.size(0)  # Update with your desired number of samples\n",
    "\n",
    "random_index = torch.randint(0, num_samples, (1,)).item()\n",
    "\n",
    "random_sample =  datasets[random_index]\n",
    "\n",
    "\n",
    "new_VAE= VariationaAutoencoder( input_tensor=input,  input_channels = num_phases, # one phase \n",
    "    hidden_channels = hidden_channels,  #  number of output channels for each layer in the network.\n",
    "    input_kernel_size = input_kernel_size, #    kernel sizes for 3 auto-encoders and 1 conv-lstm : (4,4), (4,4), (4,4) and (3,3)\n",
    "    input_stride = input_stride,  #  for each auto-encoder, the stride is (2,2) then it is (1,1) for the conv-lstm\n",
    "    input_padding = input_padding,  # a standard minimum, padding of (1,1) for each architecture \n",
    "    num_layers = num_layers,  # 3 auto-enocders + 1 conv-lstm \n",
    "    inter_dim=inter_dim,\n",
    "    latent_dim=latent_dim,\n",
    "    )\n",
    "\n",
    "optimizer = optim.Adam(new_VAE.parameters(), lr=0.001)  \n",
    "scheduler = StepLR(optimizer, step_size=100, gamma=0.97)  \n",
    "checkpoint_path = 'models/VAE_checkpoint.pt'\n",
    "\n",
    "new_VAE, optimizer, scheduler=new_VAE.load_checkpoint(optimizer, scheduler,checkpoint_path)\n",
    "\n",
    "new_VAE.check_IC(datasets,save_dir)"
   ]
  },
  {
   "attachments": {},
   "cell_type": "markdown",
   "metadata": {},
   "source": [
    "### Autoencoder-LSTM  model "
   ]
  },
  {
   "cell_type": "code",
   "execution_count": 49,
   "metadata": {},
   "outputs": [
    {
     "name": "stdout",
     "output_type": "stream",
     "text": [
      "input.shape:  torch.Size([1, 1, 64, 64])\n"
     ]
    },
    {
     "name": "stderr",
     "output_type": "stream",
     "text": [
      "/tmp/ipykernel_1134625/2018564823.py:10: UserWarning: To copy construct from a tensor, it is recommended to use sourceTensor.clone().detach() or sourceTensor.clone().detach().requires_grad_(True), rather than torch.tensor(sourceTensor).\n",
      "  input = torch.tensor(phi_0).clone().detach().to(torch.float32).unsqueeze(0).unsqueeze(0)\n"
     ]
    },
    {
     "name": "stdout",
     "output_type": "stream",
     "text": [
      "Epoch 1/10000 (0.01%) - PDE Loss: 7.173e-03, VAE Loss: 2.953e+01, Original Total Loss: 2.954e+01, \n",
      "\n",
      "\n",
      "Epoch 50/10000 (0.50%) - PDE Loss: 3.108e-03, VAE Loss: 1.830e+00, Original Total Loss: 1.833e+00, \n",
      "\n",
      "\n",
      "Epoch 100/10000 (1.00%) - PDE Loss: 6.153e-04, VAE Loss: 3.514e-01, Original Total Loss: 3.520e-01, \n",
      "\n",
      "\n",
      "Epoch 150/10000 (1.50%) - PDE Loss: 4.394e-04, VAE Loss: 1.775e-01, Original Total Loss: 1.780e-01, \n",
      "\n",
      "\n",
      "Epoch 200/10000 (2.00%) - PDE Loss: 4.028e-04, VAE Loss: 1.339e-01, Original Total Loss: 1.343e-01, \n",
      "\n",
      "\n",
      "Epoch 250/10000 (2.50%) - PDE Loss: 3.951e-04, VAE Loss: 1.079e-01, Original Total Loss: 1.083e-01, \n",
      "\n",
      "\n",
      "Epoch 300/10000 (3.00%) - PDE Loss: 3.800e-04, VAE Loss: 8.774e-02, Original Total Loss: 8.812e-02, \n",
      "\n",
      "\n",
      "Epoch 350/10000 (3.50%) - PDE Loss: 3.612e-04, VAE Loss: 8.069e-02, Original Total Loss: 8.105e-02, \n",
      "\n",
      "\n",
      "Epoch 400/10000 (4.00%) - PDE Loss: 3.159e-04, VAE Loss: 6.831e-02, Original Total Loss: 6.862e-02, \n",
      "\n",
      "\n",
      "Epoch 450/10000 (4.50%) - PDE Loss: 3.056e-04, VAE Loss: 6.247e-02, Original Total Loss: 6.277e-02, \n",
      "\n",
      "\n",
      "Epoch 500/10000 (5.00%) - PDE Loss: 3.043e-04, VAE Loss: 5.538e-02, Original Total Loss: 5.569e-02, \n",
      "\n",
      "\n",
      "Epoch 550/10000 (5.50%) - PDE Loss: 3.047e-04, VAE Loss: 4.987e-02, Original Total Loss: 5.018e-02, \n",
      "\n",
      "\n",
      "Epoch 600/10000 (6.00%) - PDE Loss: 3.041e-04, VAE Loss: 4.783e-02, Original Total Loss: 4.813e-02, \n",
      "\n",
      "\n",
      "Epoch 650/10000 (6.50%) - PDE Loss: 3.032e-04, VAE Loss: 4.238e-02, Original Total Loss: 4.269e-02, \n",
      "\n",
      "\n",
      "Epoch 700/10000 (7.00%) - PDE Loss: 3.016e-04, VAE Loss: 4.153e-02, Original Total Loss: 4.183e-02, \n",
      "\n",
      "\n",
      "Epoch 750/10000 (7.50%) - PDE Loss: 3.001e-04, VAE Loss: 3.841e-02, Original Total Loss: 3.871e-02, \n",
      "\n",
      "\n",
      "Epoch 800/10000 (8.00%) - PDE Loss: 2.980e-04, VAE Loss: 3.552e-02, Original Total Loss: 3.581e-02, \n",
      "\n",
      "\n",
      "Epoch 850/10000 (8.50%) - PDE Loss: 2.974e-04, VAE Loss: 3.128e-02, Original Total Loss: 3.158e-02, \n",
      "\n",
      "\n",
      "Epoch 900/10000 (9.00%) - PDE Loss: 2.971e-04, VAE Loss: 2.958e-02, Original Total Loss: 2.988e-02, \n",
      "\n",
      "\n",
      "Epoch 950/10000 (9.50%) - PDE Loss: 2.963e-04, VAE Loss: 2.770e-02, Original Total Loss: 2.800e-02, \n",
      "\n",
      "\n",
      "Epoch 1000/10000 (10.00%) - PDE Loss: 2.960e-04, VAE Loss: 2.661e-02, Original Total Loss: 2.691e-02, \n",
      "\n",
      "\n",
      "Epoch 1050/10000 (10.50%) - PDE Loss: 2.940e-04, VAE Loss: 2.586e-02, Original Total Loss: 2.616e-02, \n",
      "\n",
      "\n",
      "Epoch 1100/10000 (11.00%) - PDE Loss: 2.943e-04, VAE Loss: 2.387e-02, Original Total Loss: 2.417e-02, \n",
      "\n",
      "\n",
      "Threshold reached\n",
      "Epoch 1150/10000 (11.50%) - PDE Loss: 2.938e-04, VAE Loss: 2.342e-02, Original Total Loss: 2.371e-02, \n",
      "\n",
      "\n",
      "Epoch 1200/10000 (12.00%) - PDE Loss: 2.939e-04, VAE Loss: 2.106e-02, Original Total Loss: 2.136e-02, \n",
      "\n",
      "\n",
      "Threshold reached\n",
      "Epoch 1250/10000 (12.50%) - PDE Loss: 2.933e-04, VAE Loss: 2.003e-02, Original Total Loss: 2.032e-02, \n",
      "\n",
      "\n",
      "Epoch 1300/10000 (13.00%) - PDE Loss: 2.926e-04, VAE Loss: 2.018e-02, Original Total Loss: 2.047e-02, \n",
      "\n",
      "\n",
      "Threshold reached\n",
      "Epoch 1350/10000 (13.50%) - PDE Loss: 2.925e-04, VAE Loss: 1.924e-02, Original Total Loss: 1.953e-02, \n",
      "\n",
      "\n",
      "Epoch 1400/10000 (14.00%) - PDE Loss: 2.927e-04, VAE Loss: 1.917e-02, Original Total Loss: 1.946e-02, \n",
      "\n",
      "\n",
      "Threshold reached\n",
      "Epoch 1450/10000 (14.50%) - PDE Loss: 2.925e-04, VAE Loss: 1.801e-02, Original Total Loss: 1.830e-02, \n",
      "\n",
      "\n",
      "Epoch 1500/10000 (15.00%) - PDE Loss: 2.925e-04, VAE Loss: 1.741e-02, Original Total Loss: 1.770e-02, \n",
      "\n",
      "\n",
      "Threshold reached\n",
      "Epoch 1550/10000 (15.50%) - PDE Loss: 2.927e-04, VAE Loss: 1.647e-02, Original Total Loss: 1.676e-02, \n",
      "\n",
      "\n",
      "Epoch 1600/10000 (16.00%) - PDE Loss: 2.926e-04, VAE Loss: 1.544e-02, Original Total Loss: 1.573e-02, \n",
      "\n",
      "\n",
      "Threshold reached\n",
      "Epoch 1650/10000 (16.50%) - PDE Loss: 2.928e-04, VAE Loss: 1.610e-02, Original Total Loss: 1.639e-02, \n",
      "\n",
      "\n",
      "Epoch 1700/10000 (17.00%) - PDE Loss: 2.929e-04, VAE Loss: 1.529e-02, Original Total Loss: 1.558e-02, \n",
      "\n",
      "\n",
      "Threshold reached\n",
      "Epoch 1750/10000 (17.50%) - PDE Loss: 2.928e-04, VAE Loss: 1.582e-02, Original Total Loss: 1.611e-02, \n",
      "\n",
      "\n",
      "Epoch 1800/10000 (18.00%) - PDE Loss: 2.928e-04, VAE Loss: 1.451e-02, Original Total Loss: 1.480e-02, \n",
      "\n",
      "\n",
      "Threshold reached\n",
      "Epoch 1850/10000 (18.50%) - PDE Loss: 2.928e-04, VAE Loss: 1.550e-02, Original Total Loss: 1.579e-02, \n",
      "\n",
      "\n",
      "Epoch 1900/10000 (19.00%) - PDE Loss: 2.928e-04, VAE Loss: 1.379e-02, Original Total Loss: 1.408e-02, \n",
      "\n",
      "\n",
      "Threshold reached\n",
      "Epoch 1950/10000 (19.50%) - PDE Loss: 2.933e-04, VAE Loss: 1.466e-02, Original Total Loss: 1.496e-02, \n",
      "\n",
      "\n",
      "Epoch 2000/10000 (20.00%) - PDE Loss: 2.927e-04, VAE Loss: 1.398e-02, Original Total Loss: 1.428e-02, \n",
      "\n",
      "\n",
      "Epoch 2050/10000 (20.50%) - PDE Loss: 2.922e-04, VAE Loss: 1.274e-02, Original Total Loss: 1.303e-02, \n",
      "\n",
      "\n",
      "Epoch 2100/10000 (21.00%) - PDE Loss: 2.922e-04, VAE Loss: 1.272e-02, Original Total Loss: 1.301e-02, \n",
      "\n",
      "\n",
      "Threshold reached\n",
      "Epoch 2150/10000 (21.50%) - PDE Loss: 2.923e-04, VAE Loss: 1.303e-02, Original Total Loss: 1.332e-02, \n",
      "\n",
      "\n",
      "Epoch 2200/10000 (22.00%) - PDE Loss: 2.921e-04, VAE Loss: 1.265e-02, Original Total Loss: 1.294e-02, \n",
      "\n",
      "\n",
      "Threshold reached\n",
      "Epoch 2250/10000 (22.50%) - PDE Loss: 2.928e-04, VAE Loss: 1.279e-02, Original Total Loss: 1.308e-02, \n",
      "\n",
      "\n",
      "Epoch 2300/10000 (23.00%) - PDE Loss: 2.923e-04, VAE Loss: 1.214e-02, Original Total Loss: 1.243e-02, \n",
      "\n",
      "\n",
      "Threshold reached\n",
      "Epoch 2350/10000 (23.50%) - PDE Loss: 2.925e-04, VAE Loss: 1.147e-02, Original Total Loss: 1.176e-02, \n",
      "\n",
      "\n",
      "Epoch 2400/10000 (24.00%) - PDE Loss: 2.924e-04, VAE Loss: 1.183e-02, Original Total Loss: 1.213e-02, \n",
      "\n",
      "\n",
      "Threshold reached\n",
      "Epoch 2450/10000 (24.50%) - PDE Loss: 2.922e-04, VAE Loss: 1.137e-02, Original Total Loss: 1.166e-02, \n",
      "\n",
      "\n",
      "Epoch 2500/10000 (25.00%) - PDE Loss: 2.922e-04, VAE Loss: 1.094e-02, Original Total Loss: 1.123e-02, \n",
      "\n",
      "\n",
      "Threshold reached\n",
      "Epoch 2550/10000 (25.50%) - PDE Loss: 2.926e-04, VAE Loss: 1.071e-02, Original Total Loss: 1.100e-02, \n",
      "\n",
      "\n",
      "Epoch 2600/10000 (26.00%) - PDE Loss: 2.928e-04, VAE Loss: 1.098e-02, Original Total Loss: 1.127e-02, \n",
      "\n",
      "\n",
      "Epoch 2650/10000 (26.50%) - PDE Loss: 2.923e-04, VAE Loss: 1.056e-02, Original Total Loss: 1.086e-02, \n",
      "\n",
      "\n"
     ]
    }
   ],
   "source": [
    "import L_PINN\n",
    "reload(L_PINN)  # mandatory to reload content at each re-call atfer modification\n",
    "from L_PINN import *\n",
    "    \n",
    "if __name__ == '__main__':\n",
    "    \n",
    "    save_path=\"figures\"\n",
    "    Pre_Post.EraseFile(path=os.path.join(os.getcwd(),save_path))\n",
    "    \n",
    "    input = torch.tensor(phi_0).clone().detach().to(torch.float32).unsqueeze(0).unsqueeze(0)\n",
    "    latent_representation = torch.zeros(input.shape[0], Nx, 8, 8)\n",
    "    \n",
    "    tf.print(\"input.shape: \",input.shape)\n",
    "\n",
    "    ################# build the model #####################\n",
    "    Nt=40\n",
    "    Nsteps =Nt\n",
    "    lb = np.array([0, 0,0])\n",
    "    ub = np.array([Nx*dx, Ny*dy,Nt*dt]) \n",
    "    time_batch_size=Nt\n",
    "    list_steps = list(range(0, Nsteps+1))\n",
    "    \n",
    "    n_iters_adam =10000 # \n",
    "    lr_adam = 5e-4 # 1e-3 \n",
    "    pre_model_save_path = './models/checkpoint1000.pt'\n",
    "    model_save_path = './models/checkpoint1000.pt'\n",
    "    fig_save_path = './figures/'  \n",
    "\n",
    "    import L_PINN\n",
    "    reload(L_PINN)  # mandatory to reload content at each re-call atfer modification\n",
    "    from L_PINN import *\n",
    "    \n",
    "    PINN = VAE_convLSTM(\n",
    "        input_tensor=input ,\n",
    "        input_channels = input_channels, # one phase \n",
    "        hidden_channels =hidden_channels,  #  number of output channels for each layer in the network.\n",
    "        input_kernel_size = input_kernel_size, #    kernel sizes for 3 auto-encoders and 1 conv-lstm : (4,4), (4,4), (4,4) and (3,3)\n",
    "        input_stride = input_stride,  #  for each auto-encoder, the stride is (2,2) then it is (1,1) for the conv-lstm\n",
    "        input_padding = input_padding,  # a standard minimum, padding of (1,1) for each architecture \n",
    "        inter_dim = inter_dim,\n",
    "        latent_dim =latent_dim,\n",
    "        sigma= sigma,\n",
    "        mu=mu,\n",
    "        delta_g= delta_g ,\n",
    "        eta=eta,\n",
    "        Nx=Nx,\n",
    "        Ny=Ny,\n",
    "        Nt=Nt,\n",
    "        dt = dt,\n",
    "        dx=dx,\n",
    "        lb=lb,\n",
    "        ub=ub,\n",
    "        num_layers = num_layers,  # M auto-enocders + N conv-lstm  \n",
    "        upscale_factor = 8,  # for upscaling to the original dimension  \n",
    "        Nsteps = Nsteps, \n",
    "        list_steps = list_steps,\n",
    "        time_batch_size=time_batch_size\n",
    "    )\n",
    "\n",
    "    initial_state= set_initial_state(latent_representation,num_layers)  \n",
    "    \n",
    "    #print(PINN)\n",
    "    \n",
    "    PINN.encoder=new_VAE.encoder\n",
    "    PINN.decoder=new_VAE.decoder\n",
    "    PINN.fc1=new_VAE.fc1\n",
    "    PINN.fc_mu=new_VAE.fc_mu\n",
    "    PINN.fc_logvar=new_VAE.fc_logvar\n",
    "    \n",
    "    ################# train the model #####################\n",
    "    start = time.time()\n",
    "    train_loss = PINN.train(new_VAE,input, initial_state, n_iters_adam, \n",
    "        lr_adam, dt, dx, mu, sigma, eta,delta_g, model_save_path,\\\n",
    "        pre_model_save_path,\\\n",
    "            TL_Autoencoder_convLSTM=False,TL_Autoencoder=False)\n",
    "    end = time.time()"
   ]
  },
  {
   "attachments": {},
   "cell_type": "markdown",
   "metadata": {},
   "source": [
    "### Model Inference"
   ]
  },
  {
   "cell_type": "code",
   "execution_count": 109,
   "metadata": {},
   "outputs": [
    {
     "data": {
      "image/png": "[encoded data removed]",
      "text/plain": [
       "<Figure size 640x480 with 1 Axes>"
      ]
     },
     "metadata": {},
     "output_type": "display_data"
    }
   ],
   "source": [
    "plt.imshow(input[0,0])\n",
    "plt.show()"
   ]
  },
  {
   "cell_type": "code",
   "execution_count": 114,
   "metadata": {},
   "outputs": [],
   "source": [
    "test_PINN = PINN\n",
    "output, _,_ = test_PINN(initial_state, input)"
   ]
  },
  {
   "cell_type": "code",
   "execution_count": 53,
   "metadata": {},
   "outputs": [],
   "source": [
    "#test_PINN"
   ]
  },
  {
   "cell_type": "code",
   "execution_count": 115,
   "metadata": {},
   "outputs": [
    {
     "data": {
      "text/plain": [
       "torch.Size([2, 1, 64, 64])"
      ]
     },
     "execution_count": 115,
     "metadata": {},
     "output_type": "execute_result"
    }
   ],
   "source": [
    "output_tensor = torch.cat(output[:-1], dim=0)\n",
    "output_tensor.shape"
   ]
  },
  {
   "cell_type": "code",
   "execution_count": 116,
   "metadata": {},
   "outputs": [
    {
     "data": {
      "image/png": "[encoded data removed]",
      "text/plain": [
       "<Figure size 640x480 with 2 Axes>"
      ]
     },
     "metadata": {},
     "output_type": "display_data"
    }
   ],
   "source": [
    "import matplotlib.pyplot as plt\n",
    "\n",
    "# Assuming your tensor is named 'tensor'\n",
    "tensor = torch.cat(output[:-1], dim=0)[0, 0]\n",
    "\n",
    "# Convert tensor to a NumPy array\n",
    "tensor_np = tensor.cpu().detach().numpy()\n",
    "\n",
    "# Plot the tensor using imshow\n",
    "plt.imshow(tensor_np, cmap='viridis')  # Use cmap='gray' for grayscale images\n",
    "plt.colorbar()  # Add a colorbar for reference\n",
    "plt.show()"
   ]
  },
  {
   "cell_type": "code",
   "execution_count": 117,
   "metadata": {},
   "outputs": [
    {
     "data": {
      "image/png": "[encoded data removed]",
      "text/plain": [
       "<Figure size 1200x1200 with 6 Axes>"
      ]
     },
     "metadata": {},
     "output_type": "display_data"
    }
   ],
   "source": [
    "import matplotlib.pyplot as plt\n",
    "import numpy as np\n",
    "\n",
    "N_frames = 6\n",
    "\n",
    "\n",
    "# Calculate the interval size\n",
    "interval_size = len(output) // N_frames\n",
    "\n",
    "# Create a figure and axis for plotting\n",
    "fig, axes = plt.subplots(N_frames // 2, 2, figsize=(12, 12))\n",
    "\n",
    "# Flatten axes if it's not 2D\n",
    "if N_frames // 2 == 1:\n",
    "    axes = [axes]\n",
    "\n",
    "# Pre-calculate the frame indexes and sequence numbers\n",
    "frame_indexes = [(i * 2 * interval_size, (i * 2 + 1) * interval_size) for i in range(N_frames // 2)]\n",
    "\n",
    "for (start_idx, end_idx), ax_row in zip(frame_indexes, axes):\n",
    "    for j, (ax, idx) in enumerate(zip(ax_row, range(start_idx, end_idx))):\n",
    "        # Get images within the current interval\n",
    "        images = torch.cat(output[:-1], dim=0)[idx, 0]\n",
    "\n",
    "        # Plot images\n",
    "        phase=ax.imshow(images.cpu().detach().numpy(), cmap='viridis')  # Plot the image\n",
    "        ax.set_title(f\"Sequence : {idx} - Time: {idx * dt:.2e}\")  # Set title for the image with real time\n",
    "        ax.axis('off')  # Turn off axis\n",
    "        cbar = fig.colorbar(phase, ax=ax)\n",
    "\n",
    "plt.tight_layout()\n",
    "plt.show() \n"
   ]
  },
  {
   "cell_type": "code",
   "execution_count": 22,
   "metadata": {},
   "outputs": [
    {
     "data": {
      "image/png": "[encoded data removed]",
      "text/plain": [
       "<Figure size 640x480 with 1 Axes>"
      ]
     },
     "metadata": {},
     "output_type": "display_data"
    }
   ],
   "source": [
    "import matplotlib.pyplot as plt\n",
    "\n",
    "raduis_vs_time = []\n",
    "\n",
    "for t in range(output_tensor.size(0)):\n",
    "    area = torch.sum(output_tensor[t] > 1e-2).item()\n",
    "    raduis=np.sqrt(area/(Nx*Ny)/np.pi)\n",
    "    raduis_vs_time.append(raduis)\n",
    "\n",
    "plt.plot(range(len(raduis_vs_time)), raduis_vs_time, marker='o', linestyle='-')\n",
    "plt.xlabel('Time Steps')\n",
    "plt.ylabel('Raduis')\n",
    "plt.title('Evolution of the Raduis vs Time')\n",
    "#plt.grid(True)\n",
    "plt.show()\n"
   ]
  }
 ],
 "metadata": {
  "kernelspec": {
   "display_name": "Python 3",
   "language": "python",
   "name": "python3"
  },
  "language_info": {
   "codemirror_mode": {
    "name": "ipython",
    "version": 3
   },
   "file_extension": ".py",
   "mimetype": "text/x-python",
   "name": "python",
   "nbconvert_exporter": "python",
   "pygments_lexer": "ipython3",
   "version": "3.10.12"
  },
  "orig_nbformat": 4
 },
 "nbformat": 4,
 "nbformat_minor": 2
}
